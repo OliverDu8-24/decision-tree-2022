{
 "cells": [
  {
   "cell_type": "code",
   "execution_count": 1,
   "metadata": {},
   "outputs": [],
   "source": [
    "# import sklearn\n",
    "import pandas as pd\n",
    "from sklearn import tree\n",
    "from sklearn import datasets\n",
    "from sklearn.model_selection import train_test_split\n",
    "import graphviz "
   ]
  },
  {
   "cell_type": "code",
   "execution_count": 226,
   "metadata": {},
   "outputs": [],
   "source": [
    "iris = datasets.load_iris()\n",
    "\n",
    "def train(feature, label, feature_names, cls='entropy'):\n",
    "    x_train, x_test, y_train, y_test = train_test_split(feature, label, test_size=0.33, shuffle=True)\n",
    "\n",
    "    clf = tree.DecisionTreeClassifier(criterion=cls)\n",
    "    clf.fit(x_train, y_train)\n",
    "\n",
    "    s = clf.score(x_test, y_test)\n",
    "    print(s)\n",
    "\n",
    "    with open(\"out.dot\", 'w') as f :\n",
    "        f = tree.export_graphviz(clf, out_file=f,\n",
    "                feature_names=feature_names)\n",
    "\n",
    "    dotdata = tree.export_graphviz(clf, out_file=f,\n",
    "                feature_names=feature_names)\n",
    "\n",
    "    import os  \n",
    "    os.environ['PATH'] = os.pathsep + r'D:\\tools\\code\\Graphviz\\bin'\n",
    "    os.system('dot -Tpng out.dot -o 决策树模型.png')"
   ]
  },
  {
   "cell_type": "code",
   "execution_count": 53,
   "metadata": {},
   "outputs": [
    {
     "name": "stdout",
     "output_type": "stream",
     "text": [
      "q1a              object\n",
      "q1b               int64\n",
      "rpa101          float64\n",
      "rpa102          float64\n",
      "rpa103          float64\n",
      "                 ...   \n",
      "fs1ct7y2        float64\n",
      "Unnamed: 219    float64\n",
      "ID               object\n",
      "center            int64\n",
      "WOMAC           float64\n",
      "Length: 223, dtype: object\n"
     ]
    }
   ],
   "source": [
    "data = pd.read_excel('data/第1阶段.xlsx', index_col=None)\n",
    "print(data.dtypes)\n"
   ]
  },
  {
   "cell_type": "code",
   "execution_count": 135,
   "metadata": {},
   "outputs": [
    {
     "name": "stdout",
     "output_type": "stream",
     "text": [
      "(1951, 223)\n",
      "['q1a' 'fs1q1' 'fs1q6q' 'fs1q7q' 'fs1b23' 'fs1c1c1q' 'fs1c1c2q' 'fs1c2x'\n",
      " 'fs1e3q' 'fs1e6q' 'fs1e9q' 'fs1e10q' 'ID']\n",
      "(1951, 210)\n"
     ]
    }
   ],
   "source": [
    "data = pd.read_excel('data/第1阶段.xlsx', index_col=None)\n",
    "print(data.shape)\n",
    "\n",
    "data['WOMAC'].fillna(data['WOMAC'].mean(), inplace=True)\n",
    "\n",
    "data_type = data.dtypes\n",
    "drop_string_index = data_type[data_type==object].index.values\n",
    "print(drop_string_index)\n",
    "data.drop(drop_string_index, axis=1, inplace=True)\n",
    "\n",
    "def have_null(data):\n",
    "    df = data.isnull()\n",
    "    for u in df.columns:\n",
    "        if df[u].dtype==bool:\n",
    "            df[u]=df[u].astype('int')\n",
    "    return {\n",
    "        \"col_sum\": df.sum(axis=0), \n",
    "        \"row_sum\": df.sum(axis=1),\n",
    "        \"index\": df.columns}\n",
    "print(data.shape)"
   ]
  },
  {
   "cell_type": "code",
   "execution_count": 181,
   "metadata": {},
   "outputs": [
    {
     "name": "stdout",
     "output_type": "stream",
     "text": [
      "(1951, 210)\n",
      "womac splite range: 32.0 48.0\n",
      "(1951, 210)\n"
     ]
    }
   ],
   "source": [
    "import copy\n",
    "\n",
    "data_copy = copy.deepcopy(data)\n",
    "womac = copy.deepcopy(data_copy['WOMAC'].values)\n",
    "count = len(womac)\n",
    "\n",
    "womac.sort()\n",
    "range1 = womac[int(count/4)]\n",
    "range2 = womac[int(count*3/4)]\n",
    "\n",
    "print(data_copy.shape)\n",
    "\n",
    "print(f\"womac splite range: {range1} {range2}\")\n",
    "def get_cls(x):\n",
    "    if x < range1:\n",
    "        return 1\n",
    "    elif x > range2:\n",
    "        return 3\n",
    "    else:\n",
    "        return 2\n",
    "\n",
    "data_copy['WOMAC'] =  data_copy['WOMAC'].apply(get_cls)\n",
    "\n",
    "print(data_copy.shape)\n",
    "# print(data_copy)"
   ]
  },
  {
   "cell_type": "code",
   "execution_count": 206,
   "metadata": {},
   "outputs": [
    {
     "name": "stdout",
     "output_type": "stream",
     "text": [
      "null more than 210's cols will be delete\n",
      "drop col count: 54\n",
      "drop col name: ['rpa101' 'rpa102' 'rpa103' 'rpa104' 'rpa105' 'rpa106' 'rpa107' 'rpa2'\n",
      " 'rpb1' 'rpb2' 'rpb3' 'rpb4' 'rpb5' 'rpb6' 'rpc' 'rpd' 'fs1q7' 'fs1c1a1'\n",
      " 'fs1c1a2' 'fs1c1b' 'fs1c1c1' 'fs1c1c2' 'fs1c1e1' 'fs1c1e2' 'fs1c1e3'\n",
      " 'fs1c1e4' 'fs1c2c' 'fs1c301q' 'fs1c302q' 'fs1c303q' 'fs1c304q' 'fs1c305q'\n",
      " 'fs1c306q' 'fs1c307q' 'fs1c308q' 'fs1c309q' 'fs1c4a' 'fs1c4b' 'fs1c4c'\n",
      " 'fs1c6a1a' 'fs1c6a1b' 'fs1c6a2a' 'fs1c6a2b' 'fs1c6b1a' 'fs1c6b1b'\n",
      " 'fs1c6b2a' 'fs1c6b2b' 'fs1c6c1a' 'fs1c6c1b' 'fs1c6c2a' 'fs1c6c2b'\n",
      " 'fs1d2a' 'fs1e6' 'Unnamed: 219']\n",
      "null more than 30's rows will be delete\n",
      "drop row count: 44\n",
      "drop row number: [  22   35   40   54   79   82  103  116  121  122  124  126  133  135\n",
      "  140  146  149  161  166  169  207  212  236  242  244  278  284  291\n",
      "  315  361  364  369  483  562 1051 1058 1523 1529 1579 1598 1661 1857\n",
      " 1911 1912]\n",
      "now data shape: (1907, 156)\n",
      "now col name: ['q1b' 'fs1q2' 'age' 'fs1q3a' 'fs1q3b' 'fs1q3c' 'fs1q4' 'fs1q5' 'fs1q6'\n",
      " 'fs1a1' 'fs1a2a' 'fs1a2b' 'fs1a3a' 'fs1a3b' 'fs1a4a' 'fs1a4b' 'fs1a5'\n",
      " 'fs1a6a' 'fs1a6b' 'fs1a6c' 'fs1a7' 'fs1b1' 'fs1b2' 'fs1b3' 'fs1b4'\n",
      " 'fs1b5' 'fs1b6' 'fs1b7' 'fs1b8' 'fs1b9' 'fs1b10' 'fs1b11' 'fs1b12'\n",
      " 'fs1b13' 'fs1b14' 'fs1b15' 'fs1b16' 'fs1b17' 'fs1b18' 'fs1b19' 'fs1b20'\n",
      " 'fs1b21' 'fs1b22' 'fs1c1z' 'fs1c1y' 'fs1c1d10' 'fs1c1d11' 'fs1c1d12'\n",
      " 'fs1c1d13' 'fs1c1d14' 'fs1c1d15' 'fs1c1d16' 'fs1c1d17' 'fs1c1d18'\n",
      " 'fs1c1d19' 'fs1c1d20' 'fs1c1d21' 'fs1c1d22' 'fs1c1d23' 'fs1c1d24'\n",
      " 'fs1c1d25' 'fs1c1d26' 'fs1c1d27' 'fs1c1d28' 'fs1c1d29' 'fs1c1f1'\n",
      " 'fs1c1f2' 'fs1c2y' 'fs1c2a' 'fs1c2b' 'fs1c301' 'fs1c302' 'fs1c303'\n",
      " 'fs1c304' 'fs1c305' 'fs1c306' 'fs1c307' 'fs1c308' 'fs1c309' 'fs1c4'\n",
      " 'fs1c5a' 'fs1c5b' 'fs1c6a1' 'fs1c6a2' 'fs1c6b1' 'fs1c6b2' 'fs1c6c1'\n",
      " 'fs1c6c2' 'fs1c7' 'fs1c8' 'fs1d1z' 'fs1d1y' 'fs1d1a1' 'fs1d1a2' 'fs1d2z'\n",
      " 'fs1d2y' 'fs1d3' 'fs1e1' 'fs1e2' 'fs1e3' 'fs1e4' 'fs1e5' 'fs1e7' 'fs1e8'\n",
      " 'fs1e9' 'fs1e10' 'fs1wa1' 'fs1wa2' 'fs1wa3' 'fs1wa4' 'fs1wa5' 'fs1wb1'\n",
      " 'fs1wb2' 'fs1wc1' 'fs1wc2' 'fs1wc3' 'fs1wc4' 'fs1wc5' 'fs1wc6' 'fs1wc7'\n",
      " 'fs1wc8' 'fs1wc9' 'fs1wc10' 'fs1wc11' 'fs1wc12' 'fs1wc13' 'fs1wc14'\n",
      " 'fs1wc15' 'fs1wc16' 'fs1wc17' 'fs1ct1' 'fs1ct2' 'fs1ct3a' 'fs1ct3b'\n",
      " 'fs1ct4a' 'fs1ct4b' 'fs1ct5a' 'fs1ct5b' 'fs1ct6z1' 'fs1ct6z2' 'fs1ct6z3'\n",
      " 'fs1ct6z4' 'fs1ct6z5' 'fs1ct6z6' 'fs1ct6y1' 'fs1ct6y2' 'fs1ct6y3'\n",
      " 'fs1ct6y4' 'fs1ct6y5' 'fs1ct6y6' 'fs1ct7z1' 'fs1ct7z2' 'fs1ct7y1'\n",
      " 'fs1ct7y2' 'center' 'WOMAC']\n",
      "now data shape: (838, 156)\n",
      "Index(['q1b', 'fs1q2', 'age', 'fs1q3a', 'fs1q3b', 'fs1q3c', 'fs1q4', 'fs1q5',\n",
      "       'fs1q6', 'fs1a1',\n",
      "       ...\n",
      "       'fs1ct6y2', 'fs1ct6y3', 'fs1ct6y4', 'fs1ct6y5', 'fs1ct6y6', 'fs1ct7z1',\n",
      "       'fs1ct7z2', 'fs1ct7y1', 'fs1ct7y2', 'center'],\n",
      "      dtype='object', length=155)\n"
     ]
    }
   ],
   "source": [
    "# step1: fillnan  \n",
    "col_nan_num = 210\n",
    "row_nan_num = 30\n",
    "\n",
    "# 列级初步处理\n",
    "col_analise, row_analise, all_col_index = have_null(data_copy).values()\n",
    "# print(col_analise)\n",
    "drop_col_index = col_analise[col_analise>col_nan_num].index\n",
    "print(f\"null more than {col_nan_num}'s cols will be delete\")\n",
    "print(f\"drop col count: {len(drop_col_index)}\")\n",
    "print(f\"drop col name: {drop_col_index.values}\")\n",
    "\n",
    "data_drop_col = data_copy.drop(drop_col_index, axis=1, inplace=False)\n",
    "\n",
    "# 行级初步处理\n",
    "col_analise, row_analise, all_col_index = have_null(data_drop_col).values()\n",
    "# print(row_analise)\n",
    "drop_row_index = row_analise[row_analise>row_nan_num].index\n",
    "print(f\"null more than {row_nan_num}'s rows will be delete\")\n",
    "print(f\"drop row count: {len(drop_row_index)}\")\n",
    "print(f\"drop row number: {drop_row_index.values}\")\n",
    "\n",
    "\n",
    "data_drop_row = data_drop_col.drop(drop_row_index, axis=0, inplace=False)\n",
    "\n",
    "print(f\"now data shape: {data_drop_row.shape}\")\n",
    "print(f\"now col name: {data_drop_row.columns.values}\")\n",
    "\n",
    "# 按特征含义处理剩余缺省值\n",
    "# TODO 确认每一列的具体含义，制定不同的处理方案\n",
    "data_drop_fillna = data_drop_row.dropna()\n",
    "print(f\"now data shape: {data_drop_fillna.shape}\")\n",
    "\n",
    "\n",
    "# print(data_drop_row)\n",
    "feature = data_drop_fillna.drop('WOMAC', axis=1, inplace=False)\n",
    "label = data_drop_fillna['WOMAC'].values\n",
    "label_name = ['front', 'middle', 'end']\n",
    "feature_name = feature.columns\n",
    "print(feature_name)\n"
   ]
  },
  {
   "cell_type": "code",
   "execution_count": 266,
   "metadata": {},
   "outputs": [
    {
     "name": "stdout",
     "output_type": "stream",
     "text": [
      "0.8158844765342961\n"
     ]
    }
   ],
   "source": [
    "# classification\n",
    "# train(feature, label, feature_name, cls=\"gini\")\n",
    "train(feature, label, feature_name, cls=\"entropy\")"
   ]
  }
 ],
 "metadata": {
  "kernelspec": {
   "display_name": "Python 3.8.13 ('tree')",
   "language": "python",
   "name": "python3"
  },
  "language_info": {
   "codemirror_mode": {
    "name": "ipython",
    "version": 3
   },
   "file_extension": ".py",
   "mimetype": "text/x-python",
   "name": "python",
   "nbconvert_exporter": "python",
   "pygments_lexer": "ipython3",
   "version": "3.8.13"
  },
  "orig_nbformat": 4,
  "vscode": {
   "interpreter": {
    "hash": "27181ac82401b84bcd7821ae7457f9936ab0f136e1a532fa79e9952ddd5cf13e"
   }
  }
 },
 "nbformat": 4,
 "nbformat_minor": 2
}
